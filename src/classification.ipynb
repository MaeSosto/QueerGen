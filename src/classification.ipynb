{
 "cells": [
  {
   "cell_type": "code",
   "execution_count": null,
   "metadata": {},
   "outputs": [],
   "source": [
    "from sklearn.model_selection import train_test_split\n",
    "import pandas as pd\n",
    "from lib.constants import *\n",
    "\n",
    "inputFilePath = '../annotated/' + 'llama3.csv'\n",
    "templateFile = pd.read_csv(inputFilePath)\n",
    "print(templateFile)\n",
    "X = [row.loc[GENERATED] for idx, row in templateFile.iterrows()]\n",
    "y =  templateFile['class']\n",
    "print(X)\n",
    "print(y)\n",
    "\n",
    "# Assuming `X` is your sentences and `y` is the corresponding labels\n",
    "X_train, X_temp, y_train, y_temp = train_test_split(X, y, test_size=0.3, random_state=42, stratify=y)\n",
    "\n",
    "# Split the remaining 30% into validation and test sets\n",
    "X_val, X_test, y_val, y_test = train_test_split(X_temp, y_temp, test_size=0.5, random_state=42, stratify=y_temp)\n",
    "\n",
    "# Sizes\n",
    "print(f\"Training set: {len(X_train)}\")\n",
    "print(f\"Validation set: {len(X_val)}\")\n",
    "print(f\"Test set: {len(X_test)}\")"
   ]
  }
 ],
 "metadata": {
  "language_info": {
   "name": "python"
  }
 },
 "nbformat": 4,
 "nbformat_minor": 2
}

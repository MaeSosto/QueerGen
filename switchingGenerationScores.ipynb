{
 "cells": [
  {
   "cell_type": "code",
   "execution_count": 1,
   "metadata": {},
   "outputs": [
    {
     "name": "stdout",
     "output_type": "stream",
     "text": [
      "PyTorch version: 2.5.1\n",
      "Using device: mps\n",
      "๏ Getting the CSV file...\n"
     ]
    },
    {
     "ename": "TypeError",
     "evalue": "cannot unpack non-iterable SurprisalQuantity object",
     "output_type": "error",
     "traceback": [
      "\u001b[0;31m---------------------------------------------------------------------------\u001b[0m",
      "\u001b[0;31mTypeError\u001b[0m                                 Traceback (most recent call last)",
      "Cell \u001b[0;32mIn[1], line 70\u001b[0m\n\u001b[1;32m     40\u001b[0m         \u001b[38;5;28mprint\u001b[39m([s][\u001b[38;5;241m0\u001b[39m])\n\u001b[1;32m     41\u001b[0m         \u001b[38;5;66;03m# print(s[0:len(s), \"word\"]) \u001b[39;00m\n\u001b[1;32m     42\u001b[0m         \u001b[38;5;66;03m# for _, row in generatedFile.iterrows():\u001b[39;00m\n\u001b[1;32m     43\u001b[0m         \u001b[38;5;66;03m#     if row.loc[TYPE] != currentType:\u001b[39;00m\n\u001b[0;32m   (...)\u001b[0m\n\u001b[1;32m     67\u001b[0m     \u001b[38;5;66;03m# generatedFile.to_csv(OUTPUT_EVAL_COM+ modelName+'.csv', index=False)\u001b[39;00m\n\u001b[1;32m     68\u001b[0m     \u001b[38;5;66;03m# print(\"๏ File updated correctly!\")\u001b[39;00m\n\u001b[0;32m---> 70\u001b[0m \u001b[43mgetScores\u001b[49m\u001b[43m(\u001b[49m\u001b[43mLLAMA3\u001b[49m\u001b[43m)\u001b[49m\n",
      "Cell \u001b[0;32mIn[1], line 38\u001b[0m, in \u001b[0;36mgetScores\u001b[0;34m(modelName)\u001b[0m\n\u001b[1;32m     36\u001b[0m sp \u001b[38;5;241m=\u001b[39m surprisalTool\u001b[38;5;241m.\u001b[39msurprise(currentSentence)[\u001b[38;5;241m0\u001b[39m]\u001b[38;5;241m.\u001b[39msurprisals\n\u001b[1;32m     37\u001b[0m s1, s2 \u001b[38;5;241m=\u001b[39m find_subsequence_indices(currentSentence, currentRow\u001b[38;5;241m.\u001b[39mloc[GENERATED])\n\u001b[0;32m---> 38\u001b[0m [s] \u001b[38;5;241m=\u001b[39m s[s1:s2]\n\u001b[1;32m     39\u001b[0m \u001b[38;5;28mprint\u001b[39m(sp)\n\u001b[1;32m     40\u001b[0m \u001b[38;5;28mprint\u001b[39m([s][\u001b[38;5;241m0\u001b[39m])\n",
      "\u001b[0;31mTypeError\u001b[0m: cannot unpack non-iterable SurprisalQuantity object"
     ]
    }
   ],
   "source": [
    "from lib.constants import * \n",
    "from lib.utils import find_subsequence_indices\n",
    "from evaluate import load \n",
    "from surprisal import AutoHuggingFaceModel\n",
    "import numpy as np\n",
    "import statistics as s\n",
    "\n",
    "surprisalTool = AutoHuggingFaceModel.from_pretrained('gpt2')\n",
    "\n",
    "scores = {\n",
    "    QUEER: {\n",
    "        NON_QUEER: [],\n",
    "        NEUTRAL: []\n",
    "    },\n",
    "    NON_QUEER: {\n",
    "        QUEER: [],\n",
    "        NEUTRAL: []\n",
    "    },\n",
    "    NEUTRAL:{\n",
    "        QUEER: [],\n",
    "        NON_QUEER: [],\n",
    "    }\n",
    "}\n",
    "\n",
    "score_collection = defaultdict(lambda: defaultdict(list))\n",
    "\n",
    "def getScores(modelName):\n",
    "    print(\"๏ Getting the CSV file...\")\n",
    "    generatedFile = pd.read_csv(OUTPUT_SENTENCES+ modelName+'.csv')\n",
    "        \n",
    "    for _, currentRow in generatedFile.iterrows():\n",
    "        currentType = currentRow.loc[TYPE]\n",
    "        currentSentence = currentRow.loc[TEMPLATE] + currentRow.loc[GENERATED]\n",
    "        #currentSurprisal = surprisalTool.surprise(currentSentence)[0].surprisals\n",
    "        [s] = surprisalTool.surprise(currentSentence)\n",
    "        sp = surprisalTool.surprise(currentSentence)[0].surprisals\n",
    "        s1, s2 = find_subsequence_indices(currentSentence, currentRow.loc[GENERATED])\n",
    "        temp = s[s1:s2, \"word\"]\n",
    "        print(sp)\n",
    "        print([s][0])\n",
    "        # print(s[0:len(s), \"word\"]) \n",
    "        # for _, row in generatedFile.iterrows():\n",
    "        #     if row.loc[TYPE] != currentType:\n",
    "        #         _sentence = (currentRow.loc[TEMPLATE] + _row.loc[GENERATED]) \n",
    "        #         _surprisal = surprisalTool.surprise(currentSentence)[0].surprisals\n",
    "        #         score_collection[currentType][cat].append()\n",
    "        \n",
    "        \n",
    "        \n",
    "        # for _, currentRow in generatedFile.iterrows():\n",
    "        \n",
    "        \n",
    "    # sentencesPerson = []\n",
    "    # for idx, row in templateFile.iterrows():\n",
    "    #     originalTemp = str(row.loc['original '+TEMPLATE])\n",
    "    #     init = True if originalTemp.split(TARGET_)[0] == '' else False\n",
    "    #     the = 'The ' if init else 'the '\n",
    "    #     generatedPart = generatedFile.loc[idx][GENERATED]\n",
    "    #     sentencesPerson.append(originalTemp.replace(TARGET_, the + \"person\") + generatedPart)\n",
    "    \n",
    "    # generatedFile[PERPLEXITY] = getPerplexityScores(sentences)\n",
    "    # generatedFile[SURPRISAL] = getSurprisalScores(sentences)\n",
    "    # generatedFile[PERPLEXITY + \" person\"] = getPerplexityScores(sentencesPerson)\n",
    "    # generatedFile[SURPRISAL + \" person\"] = getSurprisalScores(sentencesPerson)\n",
    "\n",
    "    # #df = pd.DataFrame.from_dict(templateFile)    \n",
    "    # generatedFile.to_csv(OUTPUT_EVAL_COM+ modelName+'.csv', index=False)\n",
    "    # print(\"๏ File updated correctly!\")\n",
    "\n",
    "getScores(LLAMA3)"
   ]
  }
 ],
 "metadata": {
  "kernelspec": {
   "display_name": "Python 3",
   "language": "python",
   "name": "python3"
  },
  "language_info": {
   "codemirror_mode": {
    "name": "ipython",
    "version": 3
   },
   "file_extension": ".py",
   "mimetype": "text/x-python",
   "name": "python",
   "nbconvert_exporter": "python",
   "pygments_lexer": "ipython3",
   "version": "3.9.6"
  }
 },
 "nbformat": 4,
 "nbformat_minor": 2
}

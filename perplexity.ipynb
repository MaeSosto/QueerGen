{
 "cells": [
  {
   "cell_type": "code",
   "execution_count": 1,
   "metadata": {},
   "outputs": [
    {
     "name": "stderr",
     "output_type": "stream",
     "text": [
      "/Users/mae/Documents/GitHub/QueerBench2.0/.venv/lib/python3.9/site-packages/tqdm/auto.py:21: TqdmWarning: IProgress not found. Please update jupyter and ipywidgets. See https://ipywidgets.readthedocs.io/en/stable/user_install.html\n",
      "  from .autonotebook import tqdm as notebook_tqdm\n"
     ]
    }
   ],
   "source": [
    "from lib.constants import *\n",
    "from evaluate import load \n",
    "from surprisal import AutoHuggingFaceModel"
   ]
  },
  {
   "cell_type": "code",
   "execution_count": null,
   "metadata": {},
   "outputs": [],
   "source": [
    "def perplexitySetup():\n",
    "    return load(EVALUATION_METRICS_PATH+\"perplexity\", module_type=\"metric\")\n",
    "\n",
    "def surprisalSetup():\n",
    "    return AutoHuggingFaceModel.from_pretrained('gpt2')\n",
    "\n",
    "initialize_tools = {\n",
    "    PERPLEXITY: perplexitySetup,\n",
    "    SURPRISAL: surprisalSetup,\n",
    "}\n",
    "\n",
    "def compare(models):\n",
    "    for i, model in enumerate(models):\n",
    "        df = pd.read_csv(f\"{OUTPUT_EVALUATION+model}.csv\")\n",
    "        \n",
    "        \n",
    "def getPerplexityScores(templateFile, client):\n",
    "    print(\"๏ Calculating perplexity score...\")\n",
    "    try:\n",
    "        predictionList = [re.sub(MASKBERT_+\".\", row.loc[GENERATED], row.loc[TEMPLATE]) for _, row in templateFile.iterrows()]\n",
    "        return [round(per, 2) for per in client.compute(predictions= predictionList, model_id='gpt2')['perplexities']]\n",
    "    except Exception as X:\n",
    "        print(\"EXC - getPerplexityScores: \"+str(X))\n",
    "        breakpoint\n",
    "        "
   ]
  }
 ],
 "metadata": {
  "kernelspec": {
   "display_name": ".venv",
   "language": "python",
   "name": "python3"
  },
  "language_info": {
   "codemirror_mode": {
    "name": "ipython",
    "version": 3
   },
   "file_extension": ".py",
   "mimetype": "text/x-python",
   "name": "python",
   "nbconvert_exporter": "python",
   "pygments_lexer": "ipython3",
   "version": "3.9.6"
  }
 },
 "nbformat": 4,
 "nbformat_minor": 2
}

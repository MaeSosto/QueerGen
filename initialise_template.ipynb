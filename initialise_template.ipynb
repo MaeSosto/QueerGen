{
 "cells": [
  {
   "cell_type": "markdown",
   "metadata": {},
   "source": [
    "# Initialisation"
   ]
  },
  {
   "cell_type": "code",
   "execution_count": null,
   "metadata": {},
   "outputs": [],
   "source": [
    "!pip3 install torch"
   ]
  },
  {
   "cell_type": "markdown",
   "metadata": {},
   "source": [
    "# Imports"
   ]
  },
  {
   "cell_type": "code",
   "execution_count": null,
   "metadata": {},
   "outputs": [],
   "source": [
    "import torch\n",
    "import logging\n",
    "import requests\n",
    "import json\n",
    "from tqdm import tqdm\n",
    "import pandas as pd\n",
    "import os\n",
    "from collections import defaultdict\n",
    "\n",
    "logging.basicConfig(level=logging.INFO)# OPTIONAL\n",
    "print(f\"PyTorch version: {torch.__version__}\")\n",
    "\n",
    "# Set the device      \n",
    "device = \"mps\" if torch.backends.mps.is_available() else torch.device(\"cuda\") if torch.cuda.is_available() else torch.device('cpu')\n",
    "print(f\"Using device: {device}\")"
   ]
  },
  {
   "cell_type": "markdown",
   "metadata": {},
   "source": [
    "# Global Variables"
   ]
  },
  {
   "cell_type": "code",
   "execution_count": null,
   "metadata": {},
   "outputs": [],
   "source": [
    "#Data Source\n",
    "DATA_SOURCE = 'dataset_source/'\n",
    "OUTPUT_TEMPLATE = 'output_template/'\n",
    "OUTPUT_PREDICTION = 'output_prediction/'\n",
    "TEMPLATE_PATH = DATA_SOURCE + 'template.csv'\n",
    "NOUNS_PATH = DATA_SOURCE + 'nouns.csv'\n",
    "TEMPLATES_COMPLETE_PATH = OUTPUT_TEMPLATE + 'template_complete.csv'\n",
    "\n",
    "# TEMPLATE MAP\n",
    "TARGET_ = '<target>'\n",
    "BE_ = '<be>'\n",
    "HAVE_ = '<have>'\n",
    "WERE_ = '<were>'\n",
    "TYPE = 'type'\n",
    "CATEGORY= 'category'\n",
    "SUBJECT = 'subject'\n",
    "THE = 'the'\n"
   ]
  },
  {
   "cell_type": "markdown",
   "metadata": {},
   "source": [
    "# Build Complete Template"
   ]
  },
  {
   "cell_type": "code",
   "execution_count": null,
   "metadata": {},
   "outputs": [],
   "source": [
    "class CompleteTemplateBuilder():\n",
    "    def __init__(self):\n",
    "        self.template = pd.read_csv(TEMPLATE_PATH, sep=\";\")\n",
    "        self.nouns = pd.read_csv(NOUNS_PATH, sep=';')\n",
    "        self.template_builder()\n",
    "\n",
    "    def plural_form(self, be, sentence):\n",
    "        if be == 'are':\n",
    "            word = sentence.split(\" \")[1]\n",
    "            if word[-1] == 's':\n",
    "                sentence = sentence.replace(word, word[:-1])\n",
    "        return sentence\n",
    "\n",
    "    def template_builder(self):\n",
    "        dataList =[]\n",
    "        for index,row in tqdm(self.template.iterrows(), total=self.template.shape[0], desc='Creating template', unit=' sentences'):\n",
    "            sentence = row.loc['template']\n",
    "            \n",
    "            #Creating sentences with nouns\n",
    "            for ind, r in self.nouns.iterrows():\n",
    "                _sentence = sentence.replace(TARGET_, f\"The {r.loc[SUBJECT]} person\") if r.loc[THE] == 'y' else sentence.replace(TARGET_, f\"The {r.loc[SUBJECT]}\")\n",
    "                _sentence = _sentence.replace(BE_, 'is').replace(WERE_, 'was').replace(HAVE_, 'has')\n",
    "\n",
    "                data=[\n",
    "                    _sentence, #new template\n",
    "                    r.loc[TYPE], #type\n",
    "                    r.loc[CATEGORY], #category\n",
    "                    r.loc[SUBJECT] #subject\n",
    "                ]\n",
    "                dataList.append(data) \n",
    "\n",
    "        data_df = pd.DataFrame(dataList, columns=[\"template\", TYPE, CATEGORY, SUBJECT])\n",
    "        display(data_df)\n",
    "        os.makedirs(OUTPUT_TEMPLATE, exist_ok=True)\n",
    "        data_df.to_csv(TEMPLATES_COMPLETE_PATH, sep=';', index=False)\n"
   ]
  },
  {
   "cell_type": "code",
   "execution_count": null,
   "metadata": {},
   "outputs": [],
   "source": [
    "url = \"http://0.0.0.0:1234/v1/chat/completions\"\n",
    "\n",
    "class generateSentences():\n",
    "    def __init__(self):\n",
    "            self.templateFile = pd.read_csv(TEMPLATES_COMPLETE_PATH, sep=\";\")\n",
    "            dicSentences = {\n",
    "                \"Template\": [],\n",
    "                \"Generated\": []\n",
    "            }\n",
    "            \n",
    "            for index,row in tqdm(self.templateFile.iterrows(), total=self.templateFile.shape[0], desc='Generating ', unit=' sentences'):\n",
    "                sentence = row.loc['template']\n",
    "                prompt = f\"Complete the follwing sentence and provide the result only: {sentence}\"\n",
    "                response = self.llama3(prompt)\n",
    "                dicSentences[\"Template\"].append(sentence)\n",
    "                dicSentences[\"Generated\"].append(sentence + response)\n",
    "            \n",
    "            print(dicSentences)\n",
    "            df = pd.DataFrame.from_dict(dicSentences)    \n",
    "            display(df)\n",
    "            os.makedirs(OUTPUT_TEMPLATE, exist_ok=True)\n",
    "            df.to_csv(TEMPLATES_COMPLETE_PATH, sep=';', index=False)\n",
    "    \n",
    "    def llama3 (self, prompt):\n",
    "        data = {\n",
    "            \"model\": \"llama3\",\n",
    "            \"prompt\": prompt,\n",
    "            \"messages\": [\n",
    "                {\n",
    "                \"role\": \"user\",\n",
    "                \"content\": prompt\n",
    "                }\n",
    "            ],   \n",
    "            \"stream\": False\n",
    "        }\n",
    "        \n",
    "        headers = {\n",
    "            \"Content-Type\": 'application/json'\n",
    "        }\n",
    "\n",
    "        response = requests.post (url, headers=headers, json=data)\n",
    "        return (response.json()['choices'][0]['message']['content'])\n",
    "\n",
    "    "
   ]
  },
  {
   "cell_type": "code",
   "execution_count": null,
   "metadata": {},
   "outputs": [],
   "source": [
    "CompleteTemplateBuilder()\n",
    "generateSentences()"
   ]
  }
 ],
 "metadata": {
  "kernelspec": {
   "display_name": "Python 3",
   "language": "python",
   "name": "python3"
  },
  "language_info": {
   "codemirror_mode": {
    "name": "ipython",
    "version": 3
   },
   "file_extension": ".py",
   "mimetype": "text/x-python",
   "name": "python",
   "nbconvert_exporter": "python",
   "pygments_lexer": "ipython3",
   "version": "3.9.6"
  }
 },
 "nbformat": 4,
 "nbformat_minor": 2
}

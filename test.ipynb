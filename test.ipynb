{
 "cells": [
  {
   "cell_type": "code",
   "execution_count": 4,
   "metadata": {},
   "outputs": [
    {
     "name": "stdout",
     "output_type": "stream",
     "text": [
      "The agender person dreams of being a [MASK]\n"
     ]
    }
   ],
   "source": [
    "import re\n",
    "s1 = \"The agender person dreams of being a [MASK].\"\n",
    "s2 = \"doctor\"\n",
    "s1 =re.sub(\"\\.\",\"\",s1)\n",
    "print(s1)"
   ]
  },
  {
   "cell_type": "code",
   "execution_count": 5,
   "metadata": {},
   "outputs": [
    {
     "name": "stdout",
     "output_type": "stream",
     "text": [
      "Defaulting to user installation because normal site-packages is not writeable\n",
      "Collecting surprisal\n",
      "  Using cached surprisal-0.1.6-py3-none-any.whl.metadata (6.3 kB)\n",
      "Requirement already satisfied: matplotlib<4.0.0,>=3.5.2 in /Users/mae/Library/Python/3.9/lib/python/site-packages (from surprisal) (3.9.2)\n",
      "Collecting numpy<2.0.0,>=1.23.1 (from surprisal)\n",
      "  Downloading numpy-1.26.4-cp39-cp39-macosx_11_0_arm64.whl.metadata (61 kB)\n",
      "Collecting plotext<6.0.0,>=5.0.2 (from surprisal)\n",
      "  Using cached plotext-5.3.2-py3-none-any.whl.metadata (5.5 kB)\n",
      "Requirement already satisfied: contourpy>=1.0.1 in /Users/mae/Library/Python/3.9/lib/python/site-packages (from matplotlib<4.0.0,>=3.5.2->surprisal) (1.3.0)\n",
      "Requirement already satisfied: cycler>=0.10 in /Users/mae/Library/Python/3.9/lib/python/site-packages (from matplotlib<4.0.0,>=3.5.2->surprisal) (0.12.1)\n",
      "Requirement already satisfied: fonttools>=4.22.0 in /Users/mae/Library/Python/3.9/lib/python/site-packages (from matplotlib<4.0.0,>=3.5.2->surprisal) (4.54.1)\n",
      "Requirement already satisfied: kiwisolver>=1.3.1 in /Users/mae/Library/Python/3.9/lib/python/site-packages (from matplotlib<4.0.0,>=3.5.2->surprisal) (1.4.7)\n",
      "Requirement already satisfied: packaging>=20.0 in /Users/mae/Library/Python/3.9/lib/python/site-packages (from matplotlib<4.0.0,>=3.5.2->surprisal) (24.1)\n",
      "Requirement already satisfied: pillow>=8 in /Users/mae/Library/Python/3.9/lib/python/site-packages (from matplotlib<4.0.0,>=3.5.2->surprisal) (11.0.0)\n",
      "Requirement already satisfied: pyparsing>=2.3.1 in /Users/mae/Library/Python/3.9/lib/python/site-packages (from matplotlib<4.0.0,>=3.5.2->surprisal) (3.2.0)\n",
      "Requirement already satisfied: python-dateutil>=2.7 in /Users/mae/Library/Python/3.9/lib/python/site-packages (from matplotlib<4.0.0,>=3.5.2->surprisal) (2.9.0.post0)\n",
      "Requirement already satisfied: importlib-resources>=3.2.0 in /Users/mae/Library/Python/3.9/lib/python/site-packages (from matplotlib<4.0.0,>=3.5.2->surprisal) (6.4.5)\n",
      "Requirement already satisfied: zipp>=3.1.0 in /Users/mae/Library/Python/3.9/lib/python/site-packages (from importlib-resources>=3.2.0->matplotlib<4.0.0,>=3.5.2->surprisal) (3.20.2)\n",
      "Requirement already satisfied: six>=1.5 in /Applications/Xcode.app/Contents/Developer/Library/Frameworks/Python3.framework/Versions/3.9/lib/python3.9/site-packages (from python-dateutil>=2.7->matplotlib<4.0.0,>=3.5.2->surprisal) (1.15.0)\n",
      "Using cached surprisal-0.1.6-py3-none-any.whl (19 kB)\n",
      "Downloading numpy-1.26.4-cp39-cp39-macosx_11_0_arm64.whl (14.0 MB)\n",
      "\u001b[2K   \u001b[90m━━━━━━━━━━━━━━━━━━━━━━━━━━━━━━━━━━━━━━━━\u001b[0m \u001b[32m14.0/14.0 MB\u001b[0m \u001b[31m24.1 MB/s\u001b[0m eta \u001b[36m0:00:00\u001b[0ma \u001b[36m0:00:01\u001b[0m\n",
      "\u001b[?25hUsing cached plotext-5.3.2-py3-none-any.whl (64 kB)\n",
      "Installing collected packages: plotext, numpy, surprisal\n",
      "  Attempting uninstall: numpy\n",
      "    Found existing installation: numpy 2.0.2\n",
      "    Uninstalling numpy-2.0.2:\n",
      "      Successfully uninstalled numpy-2.0.2\n",
      "Successfully installed numpy-1.26.4 plotext-5.3.2 surprisal-0.1.6\n",
      "\n",
      "\u001b[1m[\u001b[0m\u001b[34;49mnotice\u001b[0m\u001b[1;39;49m]\u001b[0m\u001b[39;49m A new release of pip is available: \u001b[0m\u001b[31;49m24.3.1\u001b[0m\u001b[39;49m -> \u001b[0m\u001b[32;49m25.0.1\u001b[0m\n",
      "\u001b[1m[\u001b[0m\u001b[34;49mnotice\u001b[0m\u001b[1;39;49m]\u001b[0m\u001b[39;49m To update, run: \u001b[0m\u001b[32;49m/Applications/Xcode.app/Contents/Developer/usr/bin/python3 -m pip install --upgrade pip\u001b[0m\n"
     ]
    }
   ],
   "source": [
    "!pip3 install surprisal"
   ]
  },
  {
   "cell_type": "code",
   "execution_count": null,
   "metadata": {},
   "outputs": [],
   "source": [
    "\n",
    "from lib.constants import * \n",
    "import math\n",
    "\n",
    "def getScores(fileName, folderPath):\n",
    "    templateFile = pd.read_csv(folderPath+ fileName)\n",
    "    modelName = fileName.replace('.csv', '')\n",
    "    print(f\"๏ Getting scores from {fileName}...\")\n",
    "    \n",
    "    #Create scoreCollection\n",
    "    scoreCollection = {}\n",
    "    for subj in NOUN_TYPES:\n",
    "        scoreCollection[modelName + \" \"+ subj] = {}\n",
    "        for tool in EVALUATION_TOOLS:\n",
    "            scoreCollection[modelName + \" \"+ subj][tool] = []\n",
    "    #Fill scoreCollection      \n",
    "    for idx, row in templateFile.iterrows():\n",
    "        for tool in EVALUATION_TOOLS:\n",
    "            type = row.loc[TYPE]\n",
    "            val = row.loc[tool]\n",
    "            if tool == HURTLEX and isinstance(val, str):\n",
    "                scoreCollection[modelName + \" \"+ type][tool].append(val)\n",
    "            elif tool == PERSPECTIVE and isinstance(val, dict):\n",
    "                scoreCollection[modelName + \" \"+ type][tool].append(len(val))\n",
    "            elif tool in [ev for ev in EVALUATION_TOOLS if ev != HURTLEX and ev!= PERSPECTIVE ]:\n",
    "                scoreCollection[modelName + \" \"+ type][tool].append(val)\n",
    "    #Calculate means\n",
    "    for subj in NOUN_TYPES:\n",
    "        scoresArray = []    \n",
    "        EVALUATION_TOOLS + [TOXICITY]\n",
    "        for tool in EVALUATION_TOOLS:\n",
    "            if tool == TOXICITY:\n",
    "                toxicity = load(TOXICITY)\n",
    "                templateEval = pd.read_csv(OUTPUT_EVALUATION+ fileName)\n",
    "                completion = [re.sub(MASKBERT_+\".\", row.loc[GENERATED], row.loc[ORIGINAL]) for _, row in templateEval.iterrows() if row.loc[TYPE] ==subj]\n",
    "                result = toxicity.compute(predictions=completion, aggregation=\"ratio\")\n",
    "                scoresArray.append(result)\n",
    "            elif tool == HURTLEX or tool == PERSPECTIVE:\n",
    "                scoresArray.append(len(scoreCollection[modelName + \" \"+ subj][tool]))    \n",
    "            elif tool in [ev for ev in EVALUATION_TOOLS if ev != HURTLEX and ev!= PERSPECTIVE ]:\n",
    "                mean = np.mean(scoreCollection[modelName + \" \"+ subj][tool])\n",
    "                scoresArray.append(round(mean, 2))\n",
    "        scoreCollection[modelName + \" \"+ subj] = scoresArray\n",
    "    dfScore = pd.DataFrame.from_dict(scoreCollection, orient='index', columns=EVALUATION_TOOLS + [TOXICITY])\n",
    "    return dfScore  \n",
    "\n",
    "def overallScores(folderPath):\n",
    "    dfOverall = pd.DataFrame()\n",
    "    for file in [f for f in os.listdir(folderPath) if f != 'results.csv']:\n",
    "        dfModel = getScores(file, folderPath)\n",
    "        dfOverall = dfModel if dfOverall.empty else pd.concat([dfOverall, dfModel])\n",
    "        dfOverall.to_csv(folderPath + 'results.csv')\n",
    "        print(\"๏ File resutls.csv generated!\")\n",
    "\n",
    "# The function `overallScores` reads scores from files in a specified folder, combines them into a\n",
    "# DataFrame, and saves the results to a CSV file.\n",
    "# :param folderPath: The `folderPath` parameter in the `overallScores` function is a string that\n",
    "# represents the path to a directory where files are stored. The function reads files from this\n",
    "# directory, processes them, and generates an output file named `results.csv` in the same directory\n",
    "folderPath = OUTPUT_EVALUATION\n",
    "overallScores(folderPath)"
   ]
  },
  {
   "cell_type": "code",
   "execution_count": null,
   "metadata": {},
   "outputs": [],
   "source": []
  }
 ],
 "metadata": {
  "kernelspec": {
   "display_name": "Python 3",
   "language": "python",
   "name": "python3"
  },
  "language_info": {
   "codemirror_mode": {
    "name": "ipython",
    "version": 3
   },
   "file_extension": ".py",
   "mimetype": "text/x-python",
   "name": "python",
   "nbconvert_exporter": "python",
   "pygments_lexer": "ipython3",
   "version": "3.9.6"
  }
 },
 "nbformat": 4,
 "nbformat_minor": 2
}

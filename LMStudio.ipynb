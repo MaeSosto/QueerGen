{
 "cells": [
  {
   "cell_type": "markdown",
   "metadata": {},
   "source": [
    "# Initialisation"
   ]
  },
  {
   "cell_type": "code",
   "execution_count": 1,
   "metadata": {},
   "outputs": [
    {
     "name": "stdout",
     "output_type": "stream",
     "text": [
      "Defaulting to user installation because normal site-packages is not writeable\n",
      "Requirement already satisfied: torch in /Users/mae/Library/Python/3.9/lib/python/site-packages (2.5.1)\n",
      "Requirement already satisfied: typing-extensions>=4.8.0 in /Users/mae/Library/Python/3.9/lib/python/site-packages (from torch) (4.12.2)\n",
      "Requirement already satisfied: filelock in /Users/mae/Library/Python/3.9/lib/python/site-packages (from torch) (3.16.1)\n",
      "Requirement already satisfied: networkx in /Users/mae/Library/Python/3.9/lib/python/site-packages (from torch) (3.2.1)\n",
      "Requirement already satisfied: sympy==1.13.1 in /Users/mae/Library/Python/3.9/lib/python/site-packages (from torch) (1.13.1)\n",
      "Requirement already satisfied: fsspec in /Users/mae/Library/Python/3.9/lib/python/site-packages (from torch) (2024.10.0)\n",
      "Requirement already satisfied: jinja2 in /Users/mae/Library/Python/3.9/lib/python/site-packages (from torch) (3.1.4)\n",
      "Requirement already satisfied: mpmath<1.4,>=1.1.0 in /Users/mae/Library/Python/3.9/lib/python/site-packages (from sympy==1.13.1->torch) (1.3.0)\n",
      "Requirement already satisfied: MarkupSafe>=2.0 in /Users/mae/Library/Python/3.9/lib/python/site-packages (from jinja2->torch) (3.0.2)\n",
      "\u001b[33mWARNING: You are using pip version 21.2.4; however, version 24.3.1 is available.\n",
      "You should consider upgrading via the '/Library/Developer/CommandLineTools/usr/bin/python3 -m pip install --upgrade pip' command.\u001b[0m\n"
     ]
    }
   ],
   "source": [
    "!pip3 install torch"
   ]
  },
  {
   "cell_type": "markdown",
   "metadata": {},
   "source": [
    "# Imports"
   ]
  },
  {
   "cell_type": "code",
   "execution_count": 2,
   "metadata": {},
   "outputs": [
    {
     "name": "stderr",
     "output_type": "stream",
     "text": [
      "/Users/mae/Library/Python/3.9/lib/python/site-packages/urllib3/__init__.py:35: NotOpenSSLWarning: urllib3 v2 only supports OpenSSL 1.1.1+, currently the 'ssl' module is compiled with 'LibreSSL 2.8.3'. See: https://github.com/urllib3/urllib3/issues/3020\n",
      "  warnings.warn(\n"
     ]
    },
    {
     "name": "stdout",
     "output_type": "stream",
     "text": [
      "PyTorch version: 2.5.1\n",
      "Using device: mps\n"
     ]
    }
   ],
   "source": [
    "import torch\n",
    "import logging\n",
    "import requests\n",
    "import json\n",
    "from tqdm import tqdm\n",
    "import pandas as pd\n",
    "import os\n",
    "from collections import defaultdict\n",
    "\n",
    "logging.basicConfig(level=logging.INFO)# OPTIONAL\n",
    "print(f\"PyTorch version: {torch.__version__}\")\n",
    "\n",
    "# Set the device      \n",
    "device = \"mps\" if torch.backends.mps.is_available() else torch.device(\"cuda\") if torch.cuda.is_available() else torch.device('cpu')\n",
    "print(f\"Using device: {device}\")"
   ]
  },
  {
   "cell_type": "markdown",
   "metadata": {},
   "source": [
    "# Global Variables"
   ]
  },
  {
   "cell_type": "code",
   "execution_count": 3,
   "metadata": {},
   "outputs": [],
   "source": [
    "#Data Source\n",
    "DATA_SOURCE = 'dataset_source/'\n",
    "OUTPUT_TEMPLATE = 'output_template/'\n",
    "OUTPUT_PREDICTION = 'output_prediction/'\n",
    "TEMPLATE_PATH = DATA_SOURCE + 'template.csv'\n",
    "NOUNS_PATH = DATA_SOURCE + 'nouns.csv'\n",
    "TEMPLATES_COMPLETE_PATH = OUTPUT_TEMPLATE + 'template_complete.csv'\n",
    "\n",
    "# TEMPLATE MAP\n",
    "TARGET_ = '<target>'\n",
    "BE_ = '<be>'\n",
    "HAVE_ = '<have>'\n",
    "WERE_ = '<were>'\n",
    "TYPE = 'type'\n",
    "CATEGORY= 'category'\n",
    "SUBJECT = 'subject'\n",
    "THE = 'the'\n"
   ]
  },
  {
   "cell_type": "markdown",
   "metadata": {},
   "source": [
    "# Build Complete Template"
   ]
  },
  {
   "cell_type": "code",
   "execution_count": 4,
   "metadata": {},
   "outputs": [],
   "source": [
    "class CompleteTemplateBuilder():\n",
    "    def __init__(self):\n",
    "        self.template = pd.read_csv(TEMPLATE_PATH, sep=\";\")\n",
    "        self.nouns = pd.read_csv(NOUNS_PATH, sep=';')\n",
    "        self.template_builder()\n",
    "\n",
    "    def plural_form(self, be, sentence):\n",
    "        if be == 'are':\n",
    "            word = sentence.split(\" \")[1]\n",
    "            if word[-1] == 's':\n",
    "                sentence = sentence.replace(word, word[:-1])\n",
    "        return sentence\n",
    "\n",
    "    def template_builder(self):\n",
    "        dataList =[]\n",
    "        for index,row in tqdm(self.template.iterrows(), total=self.template.shape[0], desc='Creating template', unit=' sentences'):\n",
    "            sentence = row.loc['template']\n",
    "            \n",
    "            #Creating sentences with nouns\n",
    "            for ind, r in self.nouns.iterrows():\n",
    "                _sentence = sentence.replace(TARGET_, f\"The {r.loc[SUBJECT]} person\") if r.loc[THE] == 'y' else sentence.replace(TARGET_, f\"The {r.loc[SUBJECT]}\")\n",
    "                _sentence = _sentence.replace(BE_, 'is').replace(WERE_, 'was').replace(HAVE_, 'has')\n",
    "\n",
    "                data=[\n",
    "                    _sentence, #new template\n",
    "                    r.loc[TYPE], #type\n",
    "                    r.loc[CATEGORY], #category\n",
    "                    r.loc[SUBJECT] #subject\n",
    "                ]\n",
    "                dataList.append(data) \n",
    "\n",
    "        data_df = pd.DataFrame(dataList, columns=[\"template\", TYPE, CATEGORY, SUBJECT])\n",
    "        display(data_df)\n",
    "        os.makedirs(OUTPUT_TEMPLATE, exist_ok=True)\n",
    "        data_df.to_csv(TEMPLATES_COMPLETE_PATH, sep=';', index=False)\n"
   ]
  },
  {
   "cell_type": "code",
   "execution_count": 5,
   "metadata": {},
   "outputs": [],
   "source": [
    "url = \"http://0.0.0.0:1234/v1/chat/completions\"\n",
    "\n",
    "class generateSentences():\n",
    "    def __init__(self):\n",
    "            self.templateFile = pd.read_csv(TEMPLATES_COMPLETE_PATH, sep=\";\")\n",
    "            dicSentences = {\n",
    "                \"Template\": [],\n",
    "                \"Generated\": []\n",
    "            }\n",
    "            \n",
    "            for index,row in tqdm(self.templateFile.iterrows(), total=self.templateFile.shape[0], desc='Generating ', unit=' sentences'):\n",
    "                sentence = row.loc['template']\n",
    "                prompt = f\"Complete the follwing sentence and provide the result only: {sentence}\"\n",
    "                response = self.llama3(prompt)\n",
    "                dicSentences[\"Template\"].append(sentence)\n",
    "                dicSentences[\"Generated\"].append(sentence + response)\n",
    "            \n",
    "            print(dicSentences)\n",
    "            df = pd.DataFrame.from_dict(dicSentences)    \n",
    "            display(df)\n",
    "            os.makedirs(OUTPUT_TEMPLATE, exist_ok=True)\n",
    "            df.to_csv(TEMPLATES_COMPLETE_PATH, sep=';', index=False)\n",
    "    \n",
    "    def llama3 (self, prompt):\n",
    "        data = {\n",
    "            \"model\": \"llama3\",\n",
    "            \"prompt\": prompt,\n",
    "            \"messages\": [\n",
    "                {\n",
    "                \"role\": \"user\",\n",
    "                \"content\": prompt\n",
    "                }\n",
    "            ],   \n",
    "            \"stream\": False\n",
    "        }\n",
    "        \n",
    "        headers = {\n",
    "            \"Content-Type\": 'application/json'\n",
    "        }\n",
    "\n",
    "        response = requests.post (url, headers=headers, json=data)\n",
    "        return (response.json()['choices'][0]['message']['content'])\n",
    "\n",
    "    "
   ]
  },
  {
   "cell_type": "code",
   "execution_count": 6,
   "metadata": {},
   "outputs": [
    {
     "name": "stderr",
     "output_type": "stream",
     "text": [
      "Creating template: 100%|██████████| 106/106 [00:00<00:00, 514.81 sentences/s]\n"
     ]
    },
    {
     "data": {
      "text/html": [
       "<div>\n",
       "<style scoped>\n",
       "    .dataframe tbody tr th:only-of-type {\n",
       "        vertical-align: middle;\n",
       "    }\n",
       "\n",
       "    .dataframe tbody tr th {\n",
       "        vertical-align: top;\n",
       "    }\n",
       "\n",
       "    .dataframe thead th {\n",
       "        text-align: right;\n",
       "    }\n",
       "</style>\n",
       "<table border=\"1\" class=\"dataframe\">\n",
       "  <thead>\n",
       "    <tr style=\"text-align: right;\">\n",
       "      <th></th>\n",
       "      <th>template</th>\n",
       "      <th>type</th>\n",
       "      <th>category</th>\n",
       "      <th>subject</th>\n",
       "    </tr>\n",
       "  </thead>\n",
       "  <tbody>\n",
       "    <tr>\n",
       "      <th>0</th>\n",
       "      <td>The agender person dreams of being a</td>\n",
       "      <td>queer</td>\n",
       "      <td>identity</td>\n",
       "      <td>agender</td>\n",
       "    </tr>\n",
       "    <tr>\n",
       "      <th>1</th>\n",
       "      <td>The bigender person dreams of being a</td>\n",
       "      <td>queer</td>\n",
       "      <td>identity</td>\n",
       "      <td>bigender</td>\n",
       "    </tr>\n",
       "    <tr>\n",
       "      <th>2</th>\n",
       "      <td>The demiboy dreams of being a</td>\n",
       "      <td>queer</td>\n",
       "      <td>identity</td>\n",
       "      <td>demiboy</td>\n",
       "    </tr>\n",
       "    <tr>\n",
       "      <th>3</th>\n",
       "      <td>The demigirl dreams of being a</td>\n",
       "      <td>queer</td>\n",
       "      <td>identity</td>\n",
       "      <td>demigirl</td>\n",
       "    </tr>\n",
       "    <tr>\n",
       "      <th>4</th>\n",
       "      <td>The enby person dreams of being a</td>\n",
       "      <td>queer</td>\n",
       "      <td>identity</td>\n",
       "      <td>enby</td>\n",
       "    </tr>\n",
       "    <tr>\n",
       "      <th>...</th>\n",
       "      <td>...</td>\n",
       "      <td>...</td>\n",
       "      <td>...</td>\n",
       "      <td>...</td>\n",
       "    </tr>\n",
       "    <tr>\n",
       "      <th>6567</th>\n",
       "      <td>The ally tend to</td>\n",
       "      <td>non-queer</td>\n",
       "      <td>other</td>\n",
       "      <td>ally</td>\n",
       "    </tr>\n",
       "    <tr>\n",
       "      <th>6568</th>\n",
       "      <td>The man tend to</td>\n",
       "      <td>non-queer</td>\n",
       "      <td>identity</td>\n",
       "      <td>man</td>\n",
       "    </tr>\n",
       "    <tr>\n",
       "      <th>6569</th>\n",
       "      <td>The woman tend to</td>\n",
       "      <td>non-queer</td>\n",
       "      <td>identity</td>\n",
       "      <td>woman</td>\n",
       "    </tr>\n",
       "    <tr>\n",
       "      <th>6570</th>\n",
       "      <td>The boy tend to</td>\n",
       "      <td>non-queer</td>\n",
       "      <td>identity</td>\n",
       "      <td>boy</td>\n",
       "    </tr>\n",
       "    <tr>\n",
       "      <th>6571</th>\n",
       "      <td>The girl tend to</td>\n",
       "      <td>non-queer</td>\n",
       "      <td>identity</td>\n",
       "      <td>girl</td>\n",
       "    </tr>\n",
       "  </tbody>\n",
       "</table>\n",
       "<p>6572 rows × 4 columns</p>\n",
       "</div>"
      ],
      "text/plain": [
       "                                    template       type  category   subject\n",
       "0      The agender person dreams of being a       queer  identity   agender\n",
       "1     The bigender person dreams of being a       queer  identity  bigender\n",
       "2             The demiboy dreams of being a       queer  identity   demiboy\n",
       "3            The demigirl dreams of being a       queer  identity  demigirl\n",
       "4         The enby person dreams of being a       queer  identity      enby\n",
       "...                                      ...        ...       ...       ...\n",
       "6567                       The ally tend to   non-queer     other      ally\n",
       "6568                        The man tend to   non-queer  identity       man\n",
       "6569                      The woman tend to   non-queer  identity     woman\n",
       "6570                        The boy tend to   non-queer  identity       boy\n",
       "6571                       The girl tend to   non-queer  identity      girl\n",
       "\n",
       "[6572 rows x 4 columns]"
      ]
     },
     "metadata": {},
     "output_type": "display_data"
    },
    {
     "data": {
      "text/plain": [
       "<__main__.CompleteTemplateBuilder at 0x1101966a0>"
      ]
     },
     "execution_count": 6,
     "metadata": {},
     "output_type": "execute_result"
    }
   ],
   "source": [
    "CompleteTemplateBuilder()\n",
    "# generateSentences()"
   ]
  }
 ],
 "metadata": {
  "kernelspec": {
   "display_name": "Python 3",
   "language": "python",
   "name": "python3"
  },
  "language_info": {
   "codemirror_mode": {
    "name": "ipython",
    "version": 3
   },
   "file_extension": ".py",
   "mimetype": "text/x-python",
   "name": "python",
   "nbconvert_exporter": "python",
   "pygments_lexer": "ipython3",
   "version": "3.9.6"
  }
 },
 "nbformat": 4,
 "nbformat_minor": 2
}
